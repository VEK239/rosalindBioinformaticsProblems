{
 "cells": [
  {
   "cell_type": "markdown",
   "metadata": {},
   "source": [
    "# Affine alignment algorithm"
   ]
  },
  {
   "cell_type": "code",
   "execution_count": 5,
   "metadata": {},
   "outputs": [],
   "source": [
    "def affine_gap_alignment(seq1, seq2,  weight_match, weight_mismatch, sigma_penalty, epsilon_penalty):\n",
    "    m = len(seq1)\n",
    "    n = len(seq2)\n",
    "\n",
    "    L = [[0 for j in range(m + 1)] for i in range(n + 1)]  # second arg T if is a gap to here\n",
    "    L_coming_from = [[0] * (m + 1) for i in range(n + 1)]\n",
    "    L[0][1] = -sigma_penalty\n",
    "    L[1][0] = -sigma_penalty\n",
    "\n",
    "    for i in range(2, n + 1):\n",
    "        L[i][0] = L[i - 1][0] - epsilon_penalty\n",
    "    for j in range(2, m + 1):\n",
    "        L[0][j] = L[0][j - 1] - epsilon_penalty\n",
    "\n",
    "    for i in range(1, n + 1):\n",
    "        for j in range(1, m + 1):\n",
    "            match = L[i - 1][j - 1] + (weight_match if seq1[j - 1] ==  seq2[i - 1] else weight_mismatch)\n",
    "            if match > L[i][j]:\n",
    "                L[i][j] = match\n",
    "                L_coming_from[i][j] = 0\n",
    "\n",
    "            for k in range(1, i + 1):\n",
    "                new_match = L[i - k][j] - sigma_penalty - epsilon_penalty * (k - 1)\n",
    "                if new_match > L[i][j]:\n",
    "                    L[i][j] = new_match\n",
    "                    L_coming_from[i][j] = -k \n",
    "\n",
    "            for k in range(1, j + 1):\n",
    "                new_match = L[i][j - k] - sigma_penalty - epsilon_penalty * (k - 1)\n",
    "                if new_match > L[i][j]:\n",
    "                    L[i][j] = new_match\n",
    "                    L_coming_from[i][j] = k\n",
    "\n",
    "    score = L[n][m]\n",
    "\n",
    "    res_seq1, res_seq2 = '', ''\n",
    "    i = n\n",
    "    j = m\n",
    "    while i > 0 and j > 0:\n",
    "        if L_coming_from[i][j] < 0:\n",
    "            k = -L_coming_from[i][j]\n",
    "            i -= k\n",
    "            res_seq2 = seq2[i:i + k] + res_seq2\n",
    "            res_seq1 = '-' * k + res_seq1\n",
    "        elif L_coming_from[i][j] > 0:\n",
    "            k = L_coming_from[i][j]\n",
    "            j -= k\n",
    "            res_seq1 = seq1[j: j + k] + res_seq1\n",
    "            res_seq2 = '-' * k + res_seq2\n",
    "        else:\n",
    "            i -= 1\n",
    "            j -= 1\n",
    "            res_seq1 = seq1[j] + res_seq1\n",
    "            res_seq2 = seq2[i] + res_seq2\n",
    "    if i > 0:\n",
    "        res_seq2 = seq2[:i] + res_seq2\n",
    "        res_seq1 = \"-\" * i + res_seq1\n",
    "    elif j > 0:\n",
    "        res_seq1 = seq1[:j] + res_seq1\n",
    "        res_seq2 = \"-\" * j + res_seq2\n",
    "    return str(score) + '\\n' + res_seq1 + '\\n' + res_seq2"
   ]
  },
  {
   "cell_type": "markdown",
   "metadata": {},
   "source": [
    "# Testing the algo.\n",
    "*Changing the sigma penalty to a very big one makes the alignment less sparse.*"
   ]
  },
  {
   "cell_type": "code",
   "execution_count": 6,
   "metadata": {
    "pycharm": {
     "name": "#%%\n"
    }
   },
   "outputs": [
    {
     "name": "stdout",
     "output_type": "stream",
     "text": [
      "18\n",
      "PRT---EINS\n",
      "PRTWPSEIN-\n"
     ]
    }
   ],
   "source": [
    "seq1 = 'PRTEINS'\n",
    "seq2 = 'PRTWPSEIN'\n",
    "print(affine_gap_alignment(seq1, seq2, 10, -5, 20, 1))"
   ]
  },
  {
   "cell_type": "code",
   "execution_count": 15,
   "metadata": {},
   "outputs": [
    {
     "name": "stdout",
     "output_type": "stream",
     "text": [
      "0\n",
      "--PRTEINS\n",
      "PRTWPSEIN\n"
     ]
    }
   ],
   "source": [
    "seq1 = 'PRTEINS'\n",
    "seq2 = 'PRTWPSEIN'\n",
    "print(affine_gap_alignment(seq1, seq2, 10, -5, 100, 1))"
   ]
  },
  {
   "cell_type": "code",
   "execution_count": null,
   "metadata": {},
   "outputs": [],
   "source": []
  }
 ],
 "metadata": {
  "kernelspec": {
   "display_name": "Python 3",
   "language": "python",
   "name": "python3"
  },
  "language_info": {
   "codemirror_mode": {
    "name": "ipython",
    "version": 3
   },
   "file_extension": ".py",
   "mimetype": "text/x-python",
   "name": "python",
   "nbconvert_exporter": "python",
   "pygments_lexer": "ipython3",
   "version": "3.7.6"
  },
  "pycharm": {
   "stem_cell": {
    "cell_type": "raw",
    "metadata": {
     "collapsed": false
    },
    "source": []
   }
  }
 },
 "nbformat": 4,
 "nbformat_minor": 1
}
