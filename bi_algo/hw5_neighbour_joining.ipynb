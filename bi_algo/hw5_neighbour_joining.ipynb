{
 "cells": [
  {
   "cell_type": "code",
   "execution_count": 1,
   "metadata": {},
   "outputs": [],
   "source": [
    "from collections import defaultdict\n",
    "\n",
    "\n",
    "def find_closest_cluster(matrix):\n",
    "    cur_min = 10e8\n",
    "    cur_cluster = (-1, -1)\n",
    "    for i in matrix:\n",
    "        for j in matrix[i]:\n",
    "            if matrix[i][j] < cur_min:\n",
    "                cur_min = matrix[i][j]\n",
    "                cur_cluster = (i, j)\n",
    "    return cur_cluster\n",
    "\n",
    "\n",
    "def get_star_matrix(matrix, n):\n",
    "    total_dist = defaultdict(int)\n",
    "    for i in matrix:\n",
    "        for j in matrix[i]:\n",
    "            total_dist[i] += matrix[i][j]\n",
    "    star_matrix = {}\n",
    "    for i in matrix:\n",
    "        star_matrix[i] = {}\n",
    "        for j in matrix[i]:\n",
    "            if i == j:\n",
    "                star_matrix[i][j] = 0\n",
    "            else:\n",
    "                star_matrix[i][j] = (n - 2) * matrix[i][j] - total_dist[i] - total_dist[j]\n",
    "    return star_matrix, total_dist\n",
    "\n",
    "\n",
    "def neighbour_joining(matrix, n, inserting):\n",
    "    if n == 2:\n",
    "        edges = {}\n",
    "        weights = {}\n",
    "        for i in matrix:\n",
    "            for j in matrix[i]:\n",
    "                if j != i:\n",
    "                    edges[i] = [j]\n",
    "                    edges[j] = [i]\n",
    "                    weights[(i, j)], weights[(j, i)] = matrix[i][j], matrix[i][j]\n",
    "        return edges, weights\n",
    "    star_matrix, total_distances = get_star_matrix(matrix, n)\n",
    "    i, j = find_closest_cluster(star_matrix)\n",
    "    delta = (total_distances[i] - total_distances[j]) / (n - 2)\n",
    "    limb_i = (matrix[i][j] + delta) / 2\n",
    "    limb_j = (matrix[i][j] - delta) / 2\n",
    "    #   Dk, m = Dm, k = (1 / 2)(Dk, i + Dk, j - Di, j) for any k\n",
    "    matrix[inserting] = {inserting: 0}\n",
    "    for element in matrix:\n",
    "        if element == inserting:\n",
    "            continue\n",
    "        matrix[element][inserting] = (matrix[element][i] + matrix[element][j] - matrix[i][j]) / 2\n",
    "        matrix[inserting][element] = matrix[element][inserting]\n",
    "    #   remove rows/columns i, j\n",
    "    del matrix[i], matrix[j]\n",
    "    for element in matrix:\n",
    "        del matrix[element][i], matrix[element][j]\n",
    "\n",
    "    edges, weights = neighbour_joining(matrix, n - 1, inserting + 1)\n",
    "\n",
    "    edges[i] = [inserting]\n",
    "    edges[inserting].append(i)\n",
    "    edges[j] = [inserting]\n",
    "    edges[inserting].append(j)\n",
    "    weights[(i, inserting)], weights[(inserting, i)] = limb_i, limb_i\n",
    "    weights[(j, inserting)], weights[(inserting, j)] = limb_j, limb_j\n",
    "    return edges, weights"
   ]
  },
  {
   "cell_type": "markdown",
   "metadata": {},
   "source": [
    "## Newick format"
   ]
  },
  {
   "cell_type": "code",
   "execution_count": 2,
   "metadata": {},
   "outputs": [],
   "source": [
    "def newick_dfs(edges, visited, names, current_node, node_from):\n",
    "    visited[current_node] = True\n",
    "    for key, value in edges.items():\n",
    "        if key == current_node:\n",
    "            for i in range(1, len(value), 2):\n",
    "                if value[i] == node_from or (value[i] == 0 and key != len(visited) - 1):\n",
    "                    value = value[:i - 1] + value[i+1:]\n",
    "                    break\n",
    "            if len(value) == 0:\n",
    "                return names[current_node]\n",
    "            left_part = newick_dfs(edges, visited, names, value[1], current_node)\n",
    "            right_part = newick_dfs(edges, visited, names, value[3], current_node)\n",
    "            return '({}:{:.2f},{}:{:.2f})'.format(left_part, value[0], right_part, value[2])\n",
    "    return names[current_node]"
   ]
  },
  {
   "cell_type": "markdown",
   "metadata": {},
   "source": [
    "## Testing"
   ]
  },
  {
   "cell_type": "code",
   "execution_count": 3,
   "metadata": {},
   "outputs": [],
   "source": [
    "from collections import defaultdict"
   ]
  },
  {
   "cell_type": "markdown",
   "metadata": {},
   "source": [
    "### NJ. Test 1"
   ]
  },
  {
   "cell_type": "code",
   "execution_count": 6,
   "metadata": {},
   "outputs": [
    {
     "name": "stdout",
     "output_type": "stream",
     "text": [
      "(A:5.00,((B:5.00,C:3.00):2.00,D:0.00):5.00)\n"
     ]
    }
   ],
   "source": [
    "matrix = [[0, 16, 16, 10], [16, 0, 8, 8], [16, 8, 0, 4], [10, 8, 4, 0]]\n",
    "names = {0: 'A', 1: 'B', 2: 'C', 3: 'D'}\n",
    "n = 4\n",
    "\n",
    "dict_matrix = {}\n",
    "for v in range(n):\n",
    "    dict_matrix[v] = {}\n",
    "    for u, w in enumerate(matrix[v]):\n",
    "        dict_matrix[v][u] = w\n",
    "\n",
    "edges, weights = neighbour_joining(dict_matrix, n, n)\n",
    "graph = defaultdict(list)\n",
    "\n",
    "vertices_count = max(edges.keys()) + 1\n",
    "for v in edges:\n",
    "    for w in edges[v]:\n",
    "        if v == 0:\n",
    "            graph[vertices_count].append(weights[(v, w)] / 2)\n",
    "            graph[vertices_count].append(v)\n",
    "            graph[vertices_count].append(weights[(v, w)] / 2)\n",
    "            graph[vertices_count].append(w)\n",
    "        else:\n",
    "            graph[v].append(weights[(v, w)])\n",
    "            graph[v].append(w)\n",
    "\n",
    "print(newick_dfs(graph, [False for _ in range(vertices_count + 1)], names, vertices_count, -1))"
   ]
  },
  {
   "cell_type": "markdown",
   "metadata": {},
   "source": [
    "### NJ. Test 2"
   ]
  },
  {
   "cell_type": "code",
   "execution_count": 7,
   "metadata": {},
   "outputs": [
    {
     "name": "stdout",
     "output_type": "stream",
     "text": [
      "(A:0.50,((((D:3.00,E:2.00):1.00,F:5.00):1.00,C:2.00):1.00,B:4.00):0.50)\n"
     ]
    }
   ],
   "source": [
    "matrix = [[0, 5, 4, 7, 6, 8], [5, 0, 7, 10, 9, 11], [4, 7, 0, 7, 6, 8], \n",
    "          [7, 10, 7, 0, 5, 9], [6, 9, 6, 5, 0, 8], [8, 11, 8, 9, 8, 0]]\n",
    "names = {0: 'A', 1: 'B', 2: 'C', 3: 'D', 4: 'E', 5: 'F'}\n",
    "n = 6\n",
    "\n",
    "\n",
    "dict_matrix = {}\n",
    "for v in range(n):\n",
    "    dict_matrix[v] = {}\n",
    "    for u, w in enumerate(matrix[v]):\n",
    "        dict_matrix[v][u] = w\n",
    "\n",
    "edges, weights = neighbour_joining(dict_matrix, n, n)\n",
    "graph = defaultdict(list)\n",
    "\n",
    "vertices_count = max(edges.keys()) + 1\n",
    "for v in edges:\n",
    "    for w in edges[v]:\n",
    "        if v == 0:\n",
    "            graph[vertices_count].append(weights[(v, w)] / 2)\n",
    "            graph[vertices_count].append(v)\n",
    "            graph[vertices_count].append(weights[(v, w)] / 2)\n",
    "            graph[vertices_count].append(w)\n",
    "        else:\n",
    "            graph[v].append(weights[(v, w)])\n",
    "            graph[v].append(w)\n",
    "\n",
    "print(newick_dfs(graph, [False for _ in range(vertices_count + 1)], names, vertices_count, -1))"
   ]
  },
  {
   "cell_type": "code",
   "execution_count": null,
   "metadata": {},
   "outputs": [],
   "source": []
  }
 ],
 "metadata": {
  "kernelspec": {
   "display_name": "chemvae",
   "language": "python",
   "name": "chemvae"
  },
  "language_info": {
   "codemirror_mode": {
    "name": "ipython",
    "version": 3
   },
   "file_extension": ".py",
   "mimetype": "text/x-python",
   "name": "python",
   "nbconvert_exporter": "python",
   "pygments_lexer": "ipython3",
   "version": "3.6.10"
  }
 },
 "nbformat": 4,
 "nbformat_minor": 4
}
