{
 "cells": [
  {
   "cell_type": "code",
   "execution_count": 48,
   "metadata": {},
   "outputs": [],
   "source": [
    "def find_closest_cluster(distances):\n",
    "    cur_min = 10e8\n",
    "    cur_cluster = (-1, -1)\n",
    "    for key in distances:\n",
    "        if key[0] != key[1]:\n",
    "            dist = distances[(key[0], key[1])]\n",
    "            if dist < cur_min:\n",
    "                cur_min = dist\n",
    "                cur_cluster = (key[0], key[1])\n",
    "    return cur_cluster, cur_min\n",
    "\n",
    "\n",
    "def upgma(current_distances, n, w=False):\n",
    "    tree = {}\n",
    "    clusters = [i for i in range(n)]\n",
    "    for i in clusters:\n",
    "        tree[i] = (-1, -1, 0, 1)  # left child, right child, weight, cluster size\n",
    "\n",
    "    while len(clusters) != 2:\n",
    "        (i, j), distance = find_closest_cluster(current_distances)\n",
    "        i_size = tree[i][3]\n",
    "        j_size = tree[j][3]\n",
    "        tree[n] = (i, j, distance / 2, i_size + j_size)\n",
    "\n",
    "        clusters.remove(i)\n",
    "        clusters.remove(j)\n",
    "\n",
    "        new_distances = {}\n",
    "        for a in clusters:\n",
    "            for b in clusters:\n",
    "                new_distances[(a, b)] = current_distances[(a, b)]\n",
    "\n",
    "        for c in clusters:\n",
    "            new_distances[(n, c)] = (current_distances[(i, c)] * (1 if w else i_size) + current_distances[(j, c)] * (1 if w else j_size)) / (\n",
    "                    (1 if w else i_size) + (1 if w else j_size))\n",
    "            new_distances[(c, n)] = new_distances[(n, c)]\n",
    "\n",
    "        new_distances[(n, n)] = 0\n",
    "\n",
    "        clusters.append(n)\n",
    "        current_distances = new_distances\n",
    "        n += 1\n",
    "    (i, j), distance = find_closest_cluster(current_distances)\n",
    "    i_size = tree[i][3]\n",
    "    j_size = tree[j][3]\n",
    "    tree[n] = (i, j, distance / 2, i_size + j_size)\n",
    "\n",
    "    return tree"
   ]
  },
  {
   "cell_type": "markdown",
   "metadata": {},
   "source": [
    "## Newick format"
   ]
  },
  {
   "cell_type": "code",
   "execution_count": 49,
   "metadata": {},
   "outputs": [],
   "source": [
    "def newick_dfs(edges, visited, names, current_node):\n",
    "    visited[current_node] = True\n",
    "    for key, value in edges.items():\n",
    "        if key == current_node and value[0]:\n",
    "            return '({}:{:.2f},{}:{:.2f})'.format(newick_dfs(edges, visited, names, value[1]), value[0], newick_dfs(edges, visited, names, value[3]), value[2])\n",
    "    return names[current_node]\n",
    "    "
   ]
  },
  {
   "cell_type": "markdown",
   "metadata": {},
   "source": [
    "## Testing"
   ]
  },
  {
   "cell_type": "code",
   "execution_count": 50,
   "metadata": {},
   "outputs": [],
   "source": [
    "from collections import defaultdict"
   ]
  },
  {
   "cell_type": "markdown",
   "metadata": {},
   "source": [
    "### UPGMA. Test 1"
   ]
  },
  {
   "cell_type": "code",
   "execution_count": 51,
   "metadata": {},
   "outputs": [
    {
     "name": "stdout",
     "output_type": "stream",
     "text": [
      "(((C:2.00,D:2.00):2.00,B:4.00):3.00,A:7.00)\n"
     ]
    }
   ],
   "source": [
    "matrix = [[0, 16, 16, 10], [16, 0, 8, 8], [16, 8, 0, 4], [10, 8, 4, 0]]\n",
    "names = {0: 'A', 1: 'B', 2: 'C', 3: 'D'}\n",
    "\n",
    "edges = {}\n",
    "n = 4\n",
    "for i in range(n):\n",
    "    for j in range(n):\n",
    "        edges[(i, j)] = matrix[i][j]\n",
    "        \n",
    "edges = upgma(edges, n)\n",
    "graph = defaultdict(list)\n",
    "for key, value in edges.items():\n",
    "    if value[0] != -1:\n",
    "        graph[key] = [value[2] - edges[value[0]][2], value[0], value[2] - edges[value[1]][2], value[1]]\n",
    "vertices_count = max(edges.keys()) + 1\n",
    "\n",
    "print(newick_dfs(graph, [False for _ in range(vertices_count)], names, vertices_count - 1))"
   ]
  },
  {
   "cell_type": "markdown",
   "metadata": {},
   "source": [
    "### UPGMA. Test 2"
   ]
  },
  {
   "cell_type": "code",
   "execution_count": 52,
   "metadata": {},
   "outputs": [
    {
     "name": "stdout",
     "output_type": "stream",
     "text": [
      "(((B:3.00,(A:2.00,C:2.00):1.00):0.75,(D:2.50,E:2.50):1.25):0.65,F:4.40)\n"
     ]
    }
   ],
   "source": [
    "matrix = [[0, 5, 4, 7, 6, 8], [5, 0, 7, 10, 9, 11], [4, 7, 0, 7, 6, 8], \n",
    "          [7, 10, 7, 0, 5, 9], [6, 9, 6, 5, 0, 8], [8, 11, 8, 9, 8, 0]]\n",
    "names = {0: 'A', 1: 'B', 2: 'C', 3: 'D', 4: 'E', 5: 'F'}\n",
    "\n",
    "edges = {}\n",
    "n = 6\n",
    "for i in range(n):\n",
    "    for j in range(n):\n",
    "        edges[(i, j)] = matrix[i][j]\n",
    "        \n",
    "edges = upgma(edges, n)\n",
    "graph = defaultdict(list)\n",
    "for key, value in edges.items():\n",
    "    if value[0] != -1:\n",
    "        graph[key] = [value[2] - edges[value[0]][2], value[0], value[2] - edges[value[1]][2], value[1]]\n",
    "vertices_count = max(edges.keys()) + 1\n",
    "\n",
    "print(newick_dfs(graph, [False for _ in range(vertices_count)], names, vertices_count - 1))"
   ]
  },
  {
   "cell_type": "markdown",
   "metadata": {},
   "source": [
    "### WPGMA. Test 1"
   ]
  },
  {
   "cell_type": "code",
   "execution_count": 53,
   "metadata": {},
   "outputs": [
    {
     "name": "stdout",
     "output_type": "stream",
     "text": [
      "(((C:2.00,D:2.00):2.00,B:4.00):3.25,A:7.25)\n"
     ]
    }
   ],
   "source": [
    "matrix = [[0, 16, 16, 10], [16, 0, 8, 8], [16, 8, 0, 4], [10, 8, 4, 0]]\n",
    "names = {0: 'A', 1: 'B', 2: 'C', 3: 'D'}\n",
    "\n",
    "edges = {}\n",
    "n = 4\n",
    "for i in range(n):\n",
    "    for j in range(n):\n",
    "        edges[(i, j)] = matrix[i][j]\n",
    "        \n",
    "edges = upgma(edges, n, w=True)\n",
    "graph = defaultdict(list)\n",
    "for key, value in edges.items():\n",
    "    if value[0] != -1:\n",
    "        graph[key] = [value[2] - edges[value[0]][2], value[0], value[2] - edges[value[1]][2], value[1]]\n",
    "vertices_count = max(edges.keys()) + 1\n",
    "\n",
    "print(newick_dfs(graph, [False for _ in range(vertices_count)], names, vertices_count - 1))"
   ]
  },
  {
   "cell_type": "markdown",
   "metadata": {},
   "source": [
    "### WPGMA. Test 2"
   ]
  },
  {
   "cell_type": "code",
   "execution_count": 55,
   "metadata": {},
   "outputs": [
    {
     "name": "stdout",
     "output_type": "stream",
     "text": [
      "(((B:3.00,(A:2.00,C:2.00):1.00):0.75,(D:2.50,E:2.50):1.25):0.65,F:4.40)\n"
     ]
    }
   ],
   "source": [
    "matrix = [[0, 5, 4, 7, 6, 8], [5, 0, 7, 10, 9, 11], [4, 7, 0, 7, 6, 8], \n",
    "          [7, 10, 7, 0, 5, 9], [6, 9, 6, 5, 0, 8], [8, 11, 8, 9, 8, 0]]\n",
    "names = {0: 'A', 1: 'B', 2: 'C', 3: 'D', 4: 'E', 5: 'F'}\n",
    "\n",
    "edges = {}\n",
    "n = 6\n",
    "for i in range(n):\n",
    "    for j in range(n):\n",
    "        edges[(i, j)] = matrix[i][j]\n",
    "        \n",
    "edges = upgma(edges, n)\n",
    "graph = defaultdict(list)\n",
    "for key, value in edges.items():\n",
    "    if value[0] != -1:\n",
    "        graph[key] = [value[2] - edges[value[0]][2], value[0], value[2] - edges[value[1]][2], value[1]]\n",
    "vertices_count = max(edges.keys()) + 1\n",
    "\n",
    "print(newick_dfs(graph, [False for _ in range(vertices_count)], names, vertices_count - 1))"
   ]
  },
  {
   "cell_type": "code",
   "execution_count": null,
   "metadata": {},
   "outputs": [],
   "source": []
  }
 ],
 "metadata": {
  "kernelspec": {
   "display_name": "chemvae",
   "language": "python",
   "name": "chemvae"
  },
  "language_info": {
   "codemirror_mode": {
    "name": "ipython",
    "version": 3
   },
   "file_extension": ".py",
   "mimetype": "text/x-python",
   "name": "python",
   "nbconvert_exporter": "python",
   "pygments_lexer": "ipython3",
   "version": "3.6.10"
  }
 },
 "nbformat": 4,
 "nbformat_minor": 4
}
