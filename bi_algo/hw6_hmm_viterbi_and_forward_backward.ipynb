{
 "cells": [
  {
   "cell_type": "markdown",
   "metadata": {},
   "source": [
    "# Viterbi algo"
   ]
  },
  {
   "cell_type": "code",
   "execution_count": 2,
   "metadata": {},
   "outputs": [],
   "source": [
    "def viterbi(observed_states_list, hidden_states, start_prob, transition_prob, emission_prob):\n",
    "    dp = [{}]\n",
    "    path = {}\n",
    " \n",
    "    for y in hidden_states:\n",
    "        dp[0][y] = start_prob[y] * emission_prob[y][observed_states_list[0]]\n",
    "        path[y] = [y]\n",
    "\n",
    "    for t in range(1, len(observed_states_list)):\n",
    "        dp.append({})\n",
    "        newpath = {}\n",
    " \n",
    "        for y in hidden_states:\n",
    "            max_prob = -1\n",
    "            pos = -1\n",
    "            for y0 in hidden_states:\n",
    "                prob = dp[t - 1][y0] * transition_prob[y0][y] * emission_prob[y][observed_states_list[t]]\n",
    "                if prob > max_prob:\n",
    "                    max_prob = prob\n",
    "                    pos = y0\n",
    "            dp[t][y] = max_prob\n",
    "            newpath[y] = path[pos] + [y]\n",
    " \n",
    "        path = newpath\n",
    "    (prob, state) = max((dp[t][y], y) for y in hidden_states)\n",
    "    return path[state]"
   ]
  },
  {
   "cell_type": "markdown",
   "metadata": {},
   "source": [
    "## TEST 1"
   ]
  },
  {
   "cell_type": "code",
   "execution_count": 3,
   "metadata": {},
   "outputs": [
    {
     "name": "stdout",
     "output_type": "stream",
     "text": [
      "[1, 1, 1, 1, 1, 1, 1, 1, 2, 2, 2, 2, 2, 2, 2, 2, 2, 2, 1, 1, 1, 1, 1, 1, 1, 1]\n"
     ]
    }
   ],
   "source": [
    "hidden_states = (1, 2)\n",
    " \n",
    "observations = 'OPOPOPOOPPPPPPPPPPOOOOOOOO'\n",
    "start_probability = {1: 0.5, 2: 0.5}\n",
    " \n",
    "transition_probability = {\n",
    "   1 : {1: 0.8, 2: 0.2},\n",
    "   2 : {1: 0.2, 2: 0.8}\n",
    "}\n",
    " \n",
    "emission_probability = {\n",
    "   1 : {'O': 0.5, 'P': 0.5},\n",
    "   2 : {'O': 0.1, 'P': 0.9}\n",
    "}\n",
    "print(viterbi(observations, hidden_states, start_probability, transition_probability, emission_probability))"
   ]
  },
  {
   "cell_type": "markdown",
   "metadata": {},
   "source": [
    "## TEST 2"
   ]
  },
  {
   "cell_type": "code",
   "execution_count": 4,
   "metadata": {},
   "outputs": [
    {
     "name": "stdout",
     "output_type": "stream",
     "text": [
      "[2, 1, 2, 1, 2, 1, 2, 2, 1, 1, 1, 1, 1, 1, 1, 1, 1, 1, 2, 2, 2, 2, 2, 2, 2, 2]\n"
     ]
    }
   ],
   "source": [
    "hidden_states = (1, 2)\n",
    " \n",
    "observations = 'OPOPOPOOPPPPPPPPPPOOOOOOOO'\n",
    "start_probability = {1: 0.5, 2: 0.5}\n",
    " \n",
    "transition_probability = {\n",
    "   1 : {1: 0.5, 2: 0.5},\n",
    "   2 : {1: 0.5, 2: 0.5}\n",
    "}\n",
    " \n",
    "emission_probability = {\n",
    "   1 : {'O': 0.5, 'P': 0.5},\n",
    "   2 : {'O': 0.51, 'P': 0.49}\n",
    "}\n",
    "print(viterbi(observations, hidden_states, start_probability, transition_probability, emission_probability))"
   ]
  },
  {
   "cell_type": "markdown",
   "metadata": {},
   "source": [
    "# Forward-Backward"
   ]
  },
  {
   "cell_type": "code",
   "execution_count": 5,
   "metadata": {},
   "outputs": [],
   "source": [
    "def get_alpha(observed_states_list, hidden_states, start_prob, transition_prob, emission_prob):\n",
    "    fwd = []\n",
    "    current_fwd = {}\n",
    "    for s in hidden_states:\n",
    "        current_fwd[s] = start_prob[s] * emission_prob[s][observed_states_list[0]]\n",
    "    fwd.append(current_fwd)\n",
    "    for t in range(1, len(observed_states_list)):\n",
    "        current_fwd = {}\n",
    "        for s in hidden_states:\n",
    "            sum_alpha = 0\n",
    "            for s0 in hidden_states:\n",
    "                sum_alpha += fwd[t - 1][s0] *  transition_prob[s0][s] * emission_prob[s][observed_states_list[t]]\n",
    "            current_fwd[s] = sum_alpha\n",
    "        fwd.append(current_fwd)\n",
    "    return fwd\n",
    "\n",
    "def get_beta(observed_states_list, hidden_states, start_prob, transition_prob, emission_prob):\n",
    "    bkw = []\n",
    "    T = len(observed_states_list)\n",
    "    current_bkw = {}\n",
    "    for s in hidden_states:\n",
    "        current_bkw[s] = 1\n",
    "    bkw.append(current_bkw)\n",
    "    for t in range(1, len(observed_states_list)):\n",
    "        current_bkw = {}\n",
    "        for s in hidden_states:\n",
    "            sum_beta = 0\n",
    "            for s0 in hidden_states:\n",
    "                sum_beta += bkw[t - 1][s0] *  transition_prob[s][s0] * emission_prob[s0][observed_states_list[T - t]]\n",
    "            current_bkw[s] = sum_beta\n",
    "        bkw.append(current_bkw)\n",
    "    bkw.reverse()\n",
    "    return bkw\n",
    "\n",
    "def forward_backward(observed_states_list, hidden_states, start_prob, transition_prob, emission_prob):\n",
    "    alpha = get_alpha(observed_states_list, hidden_states, start_prob, transition_prob, emission_prob) \n",
    "    beta = get_beta(observed_states_list, hidden_states, start_prob, transition_prob, emission_prob)\n",
    "    answer = []\n",
    "    for s in hidden_states:\n",
    "        answer_row = []\n",
    "        for t in range(len(observed_states_list)):\n",
    "            answer_row.append(alpha[t][s] * beta[t][s] / sum(alpha[-1].values()))\n",
    "        answer.append(answer_row)\n",
    "    return answer"
   ]
  },
  {
   "cell_type": "markdown",
   "metadata": {},
   "source": [
    "## TEST 1"
   ]
  },
  {
   "cell_type": "code",
   "execution_count": 6,
   "metadata": {},
   "outputs": [
    {
     "name": "stdout",
     "output_type": "stream",
     "text": [
      "0.86\t0.14\n",
      "0.77\t0.23\n",
      "0.88\t0.12\n",
      "0.78\t0.22\n",
      "0.89\t0.11\n",
      "0.80\t0.20\n",
      "0.91\t0.09\n",
      "0.86\t0.14\n",
      "0.46\t0.54\n",
      "0.27\t0.73\n",
      "0.19\t0.81\n",
      "0.15\t0.85\n",
      "0.14\t0.86\n",
      "0.14\t0.86\n",
      "0.15\t0.85\n",
      "0.19\t0.81\n",
      "0.28\t0.72\n",
      "0.47\t0.53\n",
      "0.89\t0.11\n",
      "0.96\t0.04\n",
      "0.98\t0.02\n",
      "0.98\t0.02\n",
      "0.98\t0.02\n",
      "0.98\t0.02\n",
      "0.97\t0.03\n",
      "0.94\t0.06\n"
     ]
    }
   ],
   "source": [
    "hidden_states = (1, 2)\n",
    " \n",
    "observations = 'OPOPOPOOPPPPPPPPPPOOOOOOOO'\n",
    "start_probability = {1: 0.5, 2: 0.5}\n",
    " \n",
    "transition_probability = {\n",
    "   1 : {1: 0.8, 2: 0.2},\n",
    "   2 : {1: 0.2, 2: 0.8}\n",
    "}\n",
    " \n",
    "emission_probability = {\n",
    "   1 : {'O': 0.5, 'P': 0.5},\n",
    "   2 : {'O': 0.1, 'P': 0.9}\n",
    "}\n",
    "result = forward_backward(observations, hidden_states, start_probability, transition_probability, emission_probability)\n",
    "for a, b in zip(*result):\n",
    "    print('{:.2f}\\t{:.2f}'.format(a, b))"
   ]
  },
  {
   "cell_type": "markdown",
   "metadata": {},
   "source": [
    "## TEST 2"
   ]
  },
  {
   "cell_type": "code",
   "execution_count": 7,
   "metadata": {},
   "outputs": [
    {
     "name": "stdout",
     "output_type": "stream",
     "text": [
      "0.50\t0.50\n",
      "0.51\t0.49\n",
      "0.50\t0.50\n",
      "0.51\t0.49\n",
      "0.50\t0.50\n",
      "0.51\t0.49\n",
      "0.50\t0.50\n",
      "0.50\t0.50\n",
      "0.51\t0.49\n",
      "0.51\t0.49\n",
      "0.51\t0.49\n",
      "0.51\t0.49\n",
      "0.51\t0.49\n",
      "0.51\t0.49\n",
      "0.51\t0.49\n",
      "0.51\t0.49\n",
      "0.51\t0.49\n",
      "0.51\t0.49\n",
      "0.50\t0.50\n",
      "0.50\t0.50\n",
      "0.50\t0.50\n",
      "0.50\t0.50\n",
      "0.50\t0.50\n",
      "0.50\t0.50\n",
      "0.50\t0.50\n",
      "0.50\t0.50\n"
     ]
    }
   ],
   "source": [
    "hidden_states = (1, 2)\n",
    " \n",
    "observations = 'OPOPOPOOPPPPPPPPPPOOOOOOOO'\n",
    "start_probability = {1: 0.5, 2: 0.5}\n",
    " \n",
    "transition_probability = {\n",
    "   1 : {1: 0.5, 2: 0.5},\n",
    "   2 : {1: 0.5, 2: 0.5}\n",
    "}\n",
    " \n",
    "emission_probability = {\n",
    "   1 : {'O': 0.5, 'P': 0.5},\n",
    "   2 : {'O': 0.51, 'P': 0.49}\n",
    "}\n",
    "result = forward_backward(observations, hidden_states, start_probability, transition_probability, emission_probability)\n",
    "for a, b in zip(*result):\n",
    "    print('{:.2f}\\t{:.2f}'.format(a, b))"
   ]
  }
 ],
 "metadata": {
  "kernelspec": {
   "display_name": "Python 3",
   "language": "python",
   "name": "python3"
  },
  "language_info": {
   "codemirror_mode": {
    "name": "ipython",
    "version": 3
   },
   "file_extension": ".py",
   "mimetype": "text/x-python",
   "name": "python",
   "nbconvert_exporter": "python",
   "pygments_lexer": "ipython3",
   "version": "3.7.6"
  }
 },
 "nbformat": 4,
 "nbformat_minor": 4
}
