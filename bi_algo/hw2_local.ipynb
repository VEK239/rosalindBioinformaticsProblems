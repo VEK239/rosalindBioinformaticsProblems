{
 "cells": [
  {
   "cell_type": "markdown",
   "metadata": {},
   "source": [
    "# The local alignment algorithm"
   ]
  },
  {
   "cell_type": "code",
   "execution_count": 16,
   "metadata": {},
   "outputs": [],
   "source": [
    "def lcs(seq1, seq2, sigma_penalty, local=False):\n",
    "    m = len(seq1)\n",
    "    n = len(seq2)\n",
    "\n",
    "    L = [[0] * (m + 1) for i in range(n + 1)]\n",
    "    L_coming_from = [[0] * (m + 1) for i in range(n + 1)]\n",
    "    \n",
    "    if not local:\n",
    "            for i in range(1, n + 1):\n",
    "                L[i][0] = -i * sigma_penalty\n",
    "            for j in range(1, m + 1):\n",
    "                L[0][j] = -j * sigma_penalty\n",
    "\n",
    "    for i in range(1, n + 1):\n",
    "        for j in range(1, m + 1):\n",
    "            coming_scores = [L[i - 1][j] - sigma_penalty, L[i][j - 1] - sigma_penalty,\n",
    "                            L[i - 1][j - 1] + (1 if seq1[j - 1]== seq2[i - 1] else -1)]\n",
    "            if local:\n",
    "                coming_scores = [max(0, i) for i in coming_scores]\n",
    "            L[i][j] = max(coming_scores)\n",
    "            L_coming_from[i][j] = coming_scores.index(L[i][j])\n",
    "\n",
    "    score = L[n][m]\n",
    "\n",
    "    res_seq1, res_seq2 = '', ''\n",
    "    i = n\n",
    "    j = m\n",
    "    while i > 0 and j > 0:\n",
    "        if L_coming_from[i][j] == 0:\n",
    "            i -= 1\n",
    "            res_seq2 = seq2[i] + res_seq2\n",
    "            res_seq1 = '-' + res_seq1\n",
    "        elif L_coming_from[i][j] == 1:\n",
    "            j -= 1\n",
    "            res_seq1 = seq1[j] + res_seq1\n",
    "            res_seq2 = '-' + res_seq2\n",
    "        else:\n",
    "            i -= 1\n",
    "            j -= 1\n",
    "            res_seq1 = seq1[j] + res_seq1\n",
    "            res_seq2 = seq2[i] + res_seq2\n",
    "\n",
    "    if i > 0:\n",
    "        res_seq2 = seq2[:i] + res_seq2\n",
    "        res_seq1 = \"-\" * i + res_seq1\n",
    "\n",
    "    elif j > 0:\n",
    "        res_seq1 = seq1[:j] + res_seq1\n",
    "        res_seq2 = \"-\" * j + res_seq2\n",
    "\n",
    "    return score, res_seq1, res_seq2"
   ]
  },
  {
   "cell_type": "code",
   "execution_count": 1,
   "metadata": {},
   "outputs": [
    {
     "name": "stderr",
     "output_type": "stream",
     "text": [
      "C:\\Users\\lizzka239\\anaconda3\\envs\\chemvae\\lib\\site-packages\\Bio\\SubsMat\\__init__.py:131: BiopythonDeprecationWarning: Bio.SubsMat has been deprecated, and we intend to remove it in a future release of Biopython. As an alternative, please consider using Bio.Align.substitution_matrices as a replacement, and contact the Biopython developers if you still need the Bio.SubsMat module.\n",
      "  BiopythonDeprecationWarning,\n"
     ]
    }
   ],
   "source": [
    "from Bio.SubsMat.MatrixInfo import blosum62\n",
    "\n",
    "my_blosum62 = blosum62.copy()"
   ]
  },
  {
   "cell_type": "markdown",
   "metadata": {},
   "source": [
    "## Testing the algo"
   ]
  },
  {
   "cell_type": "code",
   "execution_count": 17,
   "metadata": {},
   "outputs": [],
   "source": [
    "s = 'PLEASANTLY'\n",
    "t = 'MEANTLY'"
   ]
  },
  {
   "cell_type": "markdown",
   "metadata": {},
   "source": [
    "## Local alignment"
   ]
  },
  {
   "cell_type": "code",
   "execution_count": 22,
   "metadata": {},
   "outputs": [
    {
     "data": {
      "text/plain": [
       "(5, 'PLEAS--ANTLY', '-----MEANTLY')"
      ]
     },
     "execution_count": 22,
     "metadata": {},
     "output_type": "execute_result"
    }
   ],
   "source": [
    "lcs(s, t, 1, True)"
   ]
  },
  {
   "cell_type": "markdown",
   "metadata": {},
   "source": [
    "## Global alignment"
   ]
  },
  {
   "cell_type": "code",
   "execution_count": 23,
   "metadata": {},
   "outputs": [
    {
     "data": {
      "text/plain": [
       "(2, 'PLEASANTLY', 'M-EA--NTLY')"
      ]
     },
     "execution_count": 23,
     "metadata": {},
     "output_type": "execute_result"
    }
   ],
   "source": [
    "lcs(s, t, 1)"
   ]
  },
  {
   "cell_type": "code",
   "execution_count": null,
   "metadata": {},
   "outputs": [],
   "source": []
  }
 ],
 "metadata": {
  "kernelspec": {
   "display_name": "chemvae",
   "language": "python",
   "name": "chemvae"
  },
  "language_info": {
   "codemirror_mode": {
    "name": "ipython",
    "version": 3
   },
   "file_extension": ".py",
   "mimetype": "text/x-python",
   "name": "python",
   "nbconvert_exporter": "python",
   "pygments_lexer": "ipython3",
   "version": "3.6.10"
  }
 },
 "nbformat": 4,
 "nbformat_minor": 4
}
